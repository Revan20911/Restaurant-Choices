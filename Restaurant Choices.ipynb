{
 "cells": [
  {
   "cell_type": "code",
   "execution_count": 1,
   "metadata": {},
   "outputs": [
    {
     "name": "stdout",
     "output_type": "stream",
     "text": [
      "Is there a vegan in the group? ｙ\n",
      "Is there a vegetarian in the group? ｙ\n",
      "Is there a gluten-free person in the group? ｙ\n",
      "Here are your choices: \n",
      "Corner Cafe\n",
      "Main Street Pizza\n",
      "The Chef's Kitchen\n",
      "Joe's\n",
      "Do you want to check again? no\n",
      "またね！\n"
     ]
    }
   ],
   "source": [
    "keep_going='yes'\n",
    "while keep_going=='yes':\n",
    "    vegan=input('Is there a vegan in the group? ')\n",
    "    vegetarian=input('Is there a vegetarian in the group? ')\n",
    "    glufree=input('Is there a gluten-free person in the group? ')\n",
    "    print('Here are your choices: ')\n",
    "    if vegan=='y':\n",
    "        if vegetarian=='y':\n",
    "            if glufree=='y':\n",
    "                print('Corner Cafe')\n",
    "            else:\n",
    "                print('Corner Cafe')\n",
    "        else:\n",
    "            if glufree=='y':\n",
    "                print('Corner Cafe')\n",
    "                print('Main Street Pizza')\n",
    "            else:\n",
    "                print('Corner Cafe')\n",
    "                print('Main Street Pizza')\n",
    "                print('The Chef\\'s Kitchen')\n",
    "    else:\n",
    "        if vegan=='y':\n",
    "            if glufree=='y':\n",
    "                print('Corner Cafe')\n",
    "        else:\n",
    "            if glufree=='y':\n",
    "                print('Corner Cafe')\n",
    "                print('Main Street Pizza')\n",
    "            else:\n",
    "                print('Corner Cafe')\n",
    "                print('Main Street Pizza')\n",
    "                print('The Chef\\'s Kitchen')\n",
    "                print('Joe\\'s')\n",
    "    keep_going=input('Do you want to check again? ')\n",
    "if keep_going=='no':\n",
    "    print('またね！')\n",
    "    "
   ]
  },
  {
   "cell_type": "code",
   "execution_count": null,
   "metadata": {},
   "outputs": [],
   "source": [
    " if vegan=='y':\n",
    "        if vegetarian=='y':\n",
    "            if glufree=='y':\n",
    "                print('Corner Cafe')\n",
    "            else:\n",
    "                print('Corner Cafe')\n",
    "        else:\n",
    "            if glufree=='y':\n",
    "                print('Corner Cafe')\n",
    "                print('Main Street Pizza')\n",
    "            else:\n",
    "                print('Corner Cafe')\n",
    "                print('Main Street Pizza')\n",
    "                print('The Chef\\'s Kitchen')\n",
    "    else:\n",
    "        if vegan=='y':\n",
    "            if glufree=='y':\n",
    "                print('Corner Cafe')\n",
    "        else:\n",
    "            if glufree=='y':\n",
    "                print('Corner Cafe')\n",
    "                print('Main Street Pizza')\n",
    "            else:\n",
    "                print('Corner Cafe')\n",
    "                print('Main Street Pizza')\n",
    "                print('The Chef\\'s Kitchen')\n",
    "                print('Joe\\'s')\n",
    "    keep_going=input('Do you want to check again? ')\n",
    "                "
   ]
  },
  {
   "cell_type": "code",
   "execution_count": null,
   "metadata": {},
   "outputs": [],
   "source": []
  }
 ],
 "metadata": {
  "kernelspec": {
   "display_name": "Python 3",
   "language": "python",
   "name": "python3"
  },
  "language_info": {
   "codemirror_mode": {
    "name": "ipython",
    "version": 3
   },
   "file_extension": ".py",
   "mimetype": "text/x-python",
   "name": "python",
   "nbconvert_exporter": "python",
   "pygments_lexer": "ipython3",
   "version": "3.7.1"
  }
 },
 "nbformat": 4,
 "nbformat_minor": 2
}
